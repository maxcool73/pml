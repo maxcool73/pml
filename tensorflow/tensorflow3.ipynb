{
 "cells": [
  {
   "cell_type": "code",
   "execution_count": 8,
   "outputs": [],
   "source": [
    "import numpy as np\n",
    "import matplotlib.pyplot as plt\n",
    "import tensorflow as tf"
   ],
   "metadata": {
    "collapsed": false,
    "pycharm": {
     "name": "#%%\n"
    }
   }
  },
  {
   "cell_type": "code",
   "execution_count": 7,
   "metadata": {
    "collapsed": true
   },
   "outputs": [
    {
     "data": {
      "text/plain": "<Figure size 432x288 with 1 Axes>",
      "image/png": "[encoded data removed]"
     },
     "metadata": {
      "needs_background": "light"
     },
     "output_type": "display_data"
    }
   ],
   "source": [
    "X_train = np.arange(10).reshape((10, 1))\n",
    "y_train = np.array([1.0, 1.3, 3.1, 2.0, 5.0, 6.3, 6.6, 7.4, 8.0, 9.0])\n",
    "plt.plot(X_train, y_train, 'o', markersize=10)\n",
    "plt.xlabel('х')\n",
    "plt.ylabel('у')\n",
    "plt.show()"
   ]
  },
  {
   "cell_type": "code",
   "execution_count": 10,
   "outputs": [],
   "source": [
    "X_train_norm = (X_train - np.mean(X_train)) / np.std(X_train)\n",
    "ds_train_orig = tf.data.Dataset.from_tensor_slices(\n",
    "    (tf.cast(X_train_norm, tf.float32),\n",
    "     tf.cast(y_train, tf.float32)))"
   ],
   "metadata": {
    "collapsed": false,
    "pycharm": {
     "name": "#%%\n"
    }
   }
  },
  {
   "cell_type": "code",
   "execution_count": 19,
   "outputs": [],
   "source": [
    "class MyModel(tf.keras.Model):\n",
    "    def __init__(self):\n",
    "        super(MyModel, self).__init__()\n",
    "        self.w = tf.Variable(0.0, name='weight')\n",
    "        self.b = tf.Variable(0.0, name='bias')\n",
    "\n",
    "    def call(self, x):\n",
    "        return self.w * x + self.b"
   ],
   "metadata": {
    "collapsed": false,
    "pycharm": {
     "name": "#%%\n"
    }
   }
  },
  {
   "cell_type": "code",
   "execution_count": 22,
   "outputs": [
    {
     "name": "stdout",
     "output_type": "stream",
     "text": [
      "Model: \"my_model_7\"\n",
      "_________________________________________________________________\n",
      " Layer (type)                Output Shape              Param #   \n",
      "=================================================================\n",
      "=================================================================\n",
      "Total params: 2\n",
      "Trainable params: 2\n",
      "Non-trainable params: 0\n",
      "_________________________________________________________________\n"
     ]
    }
   ],
   "source": [
    "model = MyModel()\n",
    "model.build(input_shape=(None, 1))\n",
    "model.summary()"
   ],
   "metadata": {
    "collapsed": false,
    "pycharm": {
     "name": "#%%\n"
    }
   }
  },
  {
   "cell_type": "code",
   "execution_count": 23,
   "outputs": [],
   "source": [
    "def loss_fn(y_true, y_pred):\n",
    "    return tf.reduce_mean(tf.square(y_true - y_pred))\n",
    "\n",
    "\n",
    "def train(model, inputs, outputs, learning_rate):\n",
    "    with tf.GradientTape() as tape:\n",
    "        current_loss = loss_fn(model(inputs), outputs)\n",
    "    dW, db = tape.gradient(current_loss, [model.w, model.b])\n",
    "    model.w.assign_sub(learning_rate * dW)\n",
    "    model.b.assign_sub(learning_rate * db)"
   ],
   "metadata": {
    "collapsed": false,
    "pycharm": {
     "name": "#%%\n"
    }
   }
  },
  {
   "cell_type": "code",
   "execution_count": 25,
   "outputs": [
    {
     "name": "stdout",
     "output_type": "stream",
     "text": [
      "Эпоха    0 Шаг  0 Потеря 43.5600\n",
      "Эпоха   10 Шаг 100 Потеря 0.7530\n",
      "Эпоха   20 Шаг 200 Потеря 20.1759\n",
      "Эпоха   30 Шаг 300 Потеря 23.3976\n",
      "Эпоха   40 Шаг 400 Потеря 6.3481\n",
      "Эпоха   50 Шаг 500 Потеря 4.6356\n",
      "Эпоха   60 Шаг 600 Потеря 0.2411\n",
      "Эпоха   70 Шаг 700 Потеря 0.2036\n",
      "Эпоха   80 Шаг 800 Потеря 3.8177\n",
      "Эпоха   90 Шаг 900 Потеря 0.9416\n",
      "Эпоха  100 Шаг 1000 Потеря 0.7035\n",
      "Эпоха  110 Шаг 1100 Потеря 0.0348\n",
      "Эпоха  120 Шаг 1200 Потеря 0.5404\n",
      "Эпоха  130 Шаг 1300 Потеря 0.1170\n",
      "Эпоха  140 Шаг 1400 Потеря 0.1195\n",
      "Эпоха  150 Шаг 1500 Потеря 0.0944\n",
      "Эпоха  160 Шаг 1600 Потеря 0.4670\n",
      "Эпоха  170 Шаг 1700 Потеря 2.0695\n",
      "Эпоха  180 Шаг 1800 Потеря 0.0020\n",
      "Эпоха  190 Шаг 1900 Потеря 0.3612\n"
     ]
    }
   ],
   "source": [
    "tf.random.set_seed(1)\n",
    "num_epochs = 200\n",
    "log_steps = 100\n",
    "learning_rate = 0.001\n",
    "batch_size = 1\n",
    "steps_per_epoch = int(np.ceil(len(y_train) / batch_size))\n",
    "ds_train = ds_train_orig.shuffle(buffer_size=len(y_train))\n",
    "ds_train = ds_train.repeat(count=None)\n",
    "ds_train = ds_train.batch(1)\n",
    "Ws, bs = [], []\n",
    "for i, batch in enumerate(ds_train):\n",
    "    if i >= steps_per_epoch * num_epochs:\n",
    "        # прекратить бесконечный цикл\n",
    "        break\n",
    "    Ws.append(model.w.numpy())\n",
    "    bs.append(model.b.numpy())\n",
    "    bx, by = batch\n",
    "    loss_val = loss_fn(model(bx), by)\n",
    "    train(model, bx, by, learning_rate=learning_rate)\n",
    "    if i % log_steps == 0:\n",
    "        print('Эпоха {:4d} Шаг {:2d} Потеря {:6.4f}'.format(int(i / steps_per_epoch), i, loss_val))"
   ],
   "metadata": {
    "collapsed": false,
    "pycharm": {
     "name": "#%%\n"
    }
   }
  },
  {
   "cell_type": "code",
   "execution_count": 28,
   "outputs": [
    {
     "name": "stdout",
     "output_type": "stream",
     "text": [
      "Финальные параметры:  2.6576622 4.8798566\n"
     ]
    }
   ],
   "source": [
    "print('Финальные параметры: ', model.w.numpy(), model.b.numpy())"
   ],
   "metadata": {
    "collapsed": false,
    "pycharm": {
     "name": "#%%\n"
    }
   }
  },
  {
   "cell_type": "code",
   "execution_count": 31,
   "outputs": [],
   "source": [
    "X_test = np.linspace(0, 9, num=100).reshape(-1, 1)\n",
    "X_test_norm = (X_test - np.mean(X_train)) / np.std(X_train)\n",
    "y_pred = model(tf.cast(X_test_norm, dtype=tf.float32))"
   ],
   "metadata": {
    "collapsed": false,
    "pycharm": {
     "name": "#%%\n"
    }
   }
  },
  {
   "cell_type": "code",
   "execution_count": 35,
   "outputs": [
    {
     "data": {
      "text/plain": "<Figure size 936x360 with 2 Axes>",
      "image/png": "[encoded data removed]"
     },
     "metadata": {
      "needs_background": "light"
     },
     "output_type": "display_data"
    }
   ],
   "source": [
    "fig = plt.figure(figsize=(13, 5))\n",
    "ax = fig.add_subplot(1, 2, 1)\n",
    "plt.plot(X_train_norm, y_train, 'o', markersize=10)\n",
    "plt.plot(X_test_norm, y_pred, '--', lw=3)\n",
    "plt.legend(['Обучающие образцы', 'Линейная регрессия'], fontsize=15)\n",
    "ax.set_xlabel('x', size=15)\n",
    "ax.set_ylabel('у', size=15)\n",
    "ax.tick_params(axis='both', which='major', labelsize=15)\n",
    "ax = fig.add_subplot(1, 2, 2)\n",
    "plt.plot(Ws, lw=3)\n",
    "plt.plot(bs, lw=3)\n",
    "plt.legend(['W', 'смещ.'], fontsize=15)\n",
    "ax.set_xlabel('Итерация', size=15)\n",
    "ax.set_ylabel('Значение', size=15)\n",
    "ax.tick_params(axis='both', which='major', labelsize=15)\n",
    "plt.show()"
   ],
   "metadata": {
    "collapsed": false,
    "pycharm": {
     "name": "#%%\n"
    }
   }
  },
  {
   "cell_type": "code",
   "execution_count": 36,
   "outputs": [],
   "source": [
    "tf.random.set_seed(1)\n",
    "model = MyModel()\n",
    "model.compile(optimizer='sgd',\n",
    "              loss=loss_fn,\n",
    "              metrics=['mae', 'mse'])"
   ],
   "metadata": {
    "collapsed": false,
    "pycharm": {
     "name": "#%%\n"
    }
   }
  },
  {
   "cell_type": "code",
   "execution_count": 37,
   "outputs": [
    {
     "name": "stdout",
     "output_type": "stream",
     "text": [
      "Epoch 1/200\n",
      "10/10 [==============================] - 0s 999us/step - loss: 27.8723 - mae: 4.5654 - mse: 27.8723\n",
      "Epoch 2/200\n",
      "10/10 [==============================] - 0s 889us/step - loss: 18.6586 - mae: 3.7446 - mse: 18.6586\n",
      "Epoch 3/200\n",
      "10/10 [==============================] - 0s 667us/step - loss: 12.5239 - mae: 3.0454 - mse: 12.5239\n",
      "Epoch 4/200\n",
      "10/10 [==============================] - 0s 666us/step - loss: 8.4670 - mae: 2.4907 - mse: 8.4670\n",
      "Epoch 5/200\n",
      "10/10 [==============================] - 0s 778us/step - loss: 5.7632 - mae: 2.0567 - mse: 5.7632\n",
      "Epoch 6/200\n",
      "10/10 [==============================] - 0s 889us/step - loss: 3.9697 - mae: 1.7232 - mse: 3.9697\n",
      "Epoch 7/200\n",
      "10/10 [==============================] - 0s 667us/step - loss: 2.7766 - mae: 1.4752 - mse: 2.7766\n",
      "Epoch 8/200\n",
      "10/10 [==============================] - 0s 1000us/step - loss: 1.9861 - mae: 1.2578 - mse: 1.9861\n",
      "Epoch 9/200\n",
      "10/10 [==============================] - 0s 889us/step - loss: 1.4572 - mae: 1.0978 - mse: 1.4572\n",
      "Epoch 10/200\n",
      "10/10 [==============================] - 0s 667us/step - loss: 1.1055 - mae: 0.9674 - mse: 1.1055\n",
      "Epoch 11/200\n",
      "10/10 [==============================] - 0s 889us/step - loss: 0.8719 - mae: 0.8633 - mse: 0.8719\n",
      "Epoch 12/200\n",
      "10/10 [==============================] - 0s 781us/step - loss: 0.7171 - mae: 0.7713 - mse: 0.7171\n",
      "Epoch 13/200\n",
      "10/10 [==============================] - 0s 667us/step - loss: 0.6147 - mae: 0.7012 - mse: 0.6147\n",
      "Epoch 14/200\n",
      "10/10 [==============================] - 0s 778us/step - loss: 0.5476 - mae: 0.6474 - mse: 0.5476\n",
      "Epoch 15/200\n",
      "10/10 [==============================] - 0s 666us/step - loss: 0.5024 - mae: 0.5972 - mse: 0.5024\n",
      "Epoch 16/200\n",
      "10/10 [==============================] - 0s 889us/step - loss: 0.4736 - mae: 0.5529 - mse: 0.4736\n",
      "Epoch 17/200\n",
      "10/10 [==============================] - 0s 778us/step - loss: 0.4543 - mae: 0.5322 - mse: 0.4543\n",
      "Epoch 18/200\n",
      "10/10 [==============================] - 0s 778us/step - loss: 0.4403 - mae: 0.5131 - mse: 0.4403\n",
      "Epoch 19/200\n",
      "10/10 [==============================] - 0s 1000us/step - loss: 0.4309 - mae: 0.5015 - mse: 0.4309\n",
      "Epoch 20/200\n",
      "10/10 [==============================] - 0s 1ms/step - loss: 0.4254 - mae: 0.5001 - mse: 0.4254\n",
      "Epoch 21/200\n",
      "10/10 [==============================] - 0s 1ms/step - loss: 0.4213 - mae: 0.4908 - mse: 0.4213\n",
      "Epoch 22/200\n",
      "10/10 [==============================] - 0s 2ms/step - loss: 0.4189 - mae: 0.4919 - mse: 0.4189\n",
      "Epoch 23/200\n",
      "10/10 [==============================] - 0s 1ms/step - loss: 0.4172 - mae: 0.4942 - mse: 0.4172\n",
      "Epoch 24/200\n",
      "10/10 [==============================] - 0s 1ms/step - loss: 0.4158 - mae: 0.4921 - mse: 0.4158\n",
      "Epoch 25/200\n",
      "10/10 [==============================] - 0s 1ms/step - loss: 0.4151 - mae: 0.4872 - mse: 0.4151\n",
      "Epoch 26/200\n",
      "10/10 [==============================] - 0s 1ms/step - loss: 0.4149 - mae: 0.4950 - mse: 0.4149\n",
      "Epoch 27/200\n",
      "10/10 [==============================] - 0s 1ms/step - loss: 0.4144 - mae: 0.4949 - mse: 0.4144\n",
      "Epoch 28/200\n",
      "10/10 [==============================] - 0s 1ms/step - loss: 0.4139 - mae: 0.4838 - mse: 0.4139\n",
      "Epoch 29/200\n",
      "10/10 [==============================] - 0s 778us/step - loss: 0.4140 - mae: 0.4913 - mse: 0.4140\n",
      "Epoch 30/200\n",
      "10/10 [==============================] - 0s 667us/step - loss: 0.4132 - mae: 0.4968 - mse: 0.4132\n",
      "Epoch 31/200\n",
      "10/10 [==============================] - 0s 777us/step - loss: 0.4139 - mae: 0.4894 - mse: 0.4139\n",
      "Epoch 32/200\n",
      "10/10 [==============================] - 0s 778us/step - loss: 0.4136 - mae: 0.4894 - mse: 0.4136\n",
      "Epoch 33/200\n",
      "10/10 [==============================] - 0s 778us/step - loss: 0.4137 - mae: 0.4928 - mse: 0.4137\n",
      "Epoch 34/200\n",
      "10/10 [==============================] - 0s 777us/step - loss: 0.4132 - mae: 0.4834 - mse: 0.4132\n",
      "Epoch 35/200\n",
      "10/10 [==============================] - 0s 1000us/step - loss: 0.4137 - mae: 0.4939 - mse: 0.4137\n",
      "Epoch 36/200\n",
      "10/10 [==============================] - 0s 889us/step - loss: 0.4136 - mae: 0.4947 - mse: 0.4136\n",
      "Epoch 37/200\n",
      "10/10 [==============================] - 0s 778us/step - loss: 0.4131 - mae: 0.4855 - mse: 0.4131\n",
      "Epoch 38/200\n",
      "10/10 [==============================] - 0s 889us/step - loss: 0.4133 - mae: 0.4940 - mse: 0.4133\n",
      "Epoch 39/200\n",
      "10/10 [==============================] - 0s 889us/step - loss: 0.4134 - mae: 0.4822 - mse: 0.4134\n",
      "Epoch 40/200\n",
      "10/10 [==============================] - 0s 778us/step - loss: 0.4137 - mae: 0.4979 - mse: 0.4137\n",
      "Epoch 41/200\n",
      "10/10 [==============================] - 0s 778us/step - loss: 0.4138 - mae: 0.4903 - mse: 0.4138\n",
      "Epoch 42/200\n",
      "10/10 [==============================] - 0s 778us/step - loss: 0.4135 - mae: 0.4932 - mse: 0.4135\n",
      "Epoch 43/200\n",
      "10/10 [==============================] - 0s 667us/step - loss: 0.4136 - mae: 0.4886 - mse: 0.4136\n",
      "Epoch 44/200\n",
      "10/10 [==============================] - 0s 778us/step - loss: 0.4129 - mae: 0.4800 - mse: 0.4129\n",
      "Epoch 45/200\n",
      "10/10 [==============================] - 0s 667us/step - loss: 0.4140 - mae: 0.4886 - mse: 0.4140\n",
      "Epoch 46/200\n",
      "10/10 [==============================] - 0s 667us/step - loss: 0.4138 - mae: 0.4888 - mse: 0.4138\n",
      "Epoch 47/200\n",
      "10/10 [==============================] - 0s 667us/step - loss: 0.4137 - mae: 0.4879 - mse: 0.4137\n",
      "Epoch 48/200\n",
      "10/10 [==============================] - 0s 667us/step - loss: 0.4135 - mae: 0.4925 - mse: 0.4135\n",
      "Epoch 49/200\n",
      "10/10 [==============================] - 0s 1ms/step - loss: 0.4136 - mae: 0.4933 - mse: 0.4136\n",
      "Epoch 50/200\n",
      "10/10 [==============================] - 0s 890us/step - loss: 0.4137 - mae: 0.4816 - mse: 0.4137\n",
      "Epoch 51/200\n",
      "10/10 [==============================] - 0s 666us/step - loss: 0.4137 - mae: 0.4901 - mse: 0.4137\n",
      "Epoch 52/200\n",
      "10/10 [==============================] - 0s 889us/step - loss: 0.4136 - mae: 0.4935 - mse: 0.4136\n",
      "Epoch 53/200\n",
      "10/10 [==============================] - 0s 889us/step - loss: 0.4133 - mae: 0.4881 - mse: 0.4133\n",
      "Epoch 54/200\n",
      "10/10 [==============================] - 0s 667us/step - loss: 0.4138 - mae: 0.4831 - mse: 0.4138\n",
      "Epoch 55/200\n",
      "10/10 [==============================] - 0s 778us/step - loss: 0.4139 - mae: 0.4845 - mse: 0.4139\n",
      "Epoch 56/200\n",
      "10/10 [==============================] - 0s 778us/step - loss: 0.4139 - mae: 0.4868 - mse: 0.4139\n",
      "Epoch 57/200\n",
      "10/10 [==============================] - 0s 778us/step - loss: 0.4139 - mae: 0.4903 - mse: 0.4139\n",
      "Epoch 58/200\n",
      "10/10 [==============================] - 0s 778us/step - loss: 0.4138 - mae: 0.4827 - mse: 0.4138\n",
      "Epoch 59/200\n",
      "10/10 [==============================] - 0s 666us/step - loss: 0.4138 - mae: 0.4849 - mse: 0.4138\n",
      "Epoch 60/200\n",
      "10/10 [==============================] - 0s 667us/step - loss: 0.4136 - mae: 0.4989 - mse: 0.4136\n",
      "Epoch 61/200\n",
      "10/10 [==============================] - 0s 1ms/step - loss: 0.4138 - mae: 0.4854 - mse: 0.4138\n",
      "Epoch 62/200\n",
      "10/10 [==============================] - 0s 777us/step - loss: 0.4133 - mae: 0.4913 - mse: 0.4133\n",
      "Epoch 63/200\n",
      "10/10 [==============================] - 0s 667us/step - loss: 0.4136 - mae: 0.4915 - mse: 0.4136\n",
      "Epoch 64/200\n",
      "10/10 [==============================] - 0s 889us/step - loss: 0.4138 - mae: 0.4882 - mse: 0.4138\n",
      "Epoch 65/200\n",
      "10/10 [==============================] - 0s 889us/step - loss: 0.4139 - mae: 0.4881 - mse: 0.4139\n",
      "Epoch 66/200\n",
      "10/10 [==============================] - 0s 666us/step - loss: 0.4135 - mae: 0.4882 - mse: 0.4135\n",
      "Epoch 67/200\n",
      "10/10 [==============================] - 0s 889us/step - loss: 0.4140 - mae: 0.4888 - mse: 0.4140\n",
      "Epoch 68/200\n",
      "10/10 [==============================] - 0s 778us/step - loss: 0.4138 - mae: 0.4890 - mse: 0.4138\n",
      "Epoch 69/200\n",
      "10/10 [==============================] - 0s 667us/step - loss: 0.4137 - mae: 0.4823 - mse: 0.4137\n",
      "Epoch 70/200\n",
      "10/10 [==============================] - 0s 890us/step - loss: 0.4135 - mae: 0.4800 - mse: 0.4135\n",
      "Epoch 71/200\n",
      "10/10 [==============================] - 0s 666us/step - loss: 0.4136 - mae: 0.4938 - mse: 0.4136\n",
      "Epoch 72/200\n",
      "10/10 [==============================] - 0s 667us/step - loss: 0.4135 - mae: 0.4915 - mse: 0.4135\n",
      "Epoch 73/200\n",
      "10/10 [==============================] - 0s 889us/step - loss: 0.4139 - mae: 0.4901 - mse: 0.4139\n",
      "Epoch 74/200\n",
      "10/10 [==============================] - 0s 670us/step - loss: 0.4139 - mae: 0.4915 - mse: 0.4139\n",
      "Epoch 75/200\n",
      "10/10 [==============================] - 0s 666us/step - loss: 0.4133 - mae: 0.4894 - mse: 0.4133\n",
      "Epoch 76/200\n",
      "10/10 [==============================] - 0s 889us/step - loss: 0.4136 - mae: 0.4939 - mse: 0.4136\n",
      "Epoch 77/200\n",
      "10/10 [==============================] - 0s 778us/step - loss: 0.4139 - mae: 0.4824 - mse: 0.4139\n",
      "Epoch 78/200\n",
      "10/10 [==============================] - 0s 667us/step - loss: 0.4136 - mae: 0.4811 - mse: 0.4136\n",
      "Epoch 79/200\n",
      "10/10 [==============================] - 0s 776us/step - loss: 0.4137 - mae: 0.4854 - mse: 0.4137\n",
      "Epoch 80/200\n",
      "10/10 [==============================] - 0s 778us/step - loss: 0.4136 - mae: 0.4842 - mse: 0.4136\n",
      "Epoch 81/200\n",
      "10/10 [==============================] - 0s 778us/step - loss: 0.4139 - mae: 0.4923 - mse: 0.4139\n",
      "Epoch 82/200\n",
      "10/10 [==============================] - 0s 778us/step - loss: 0.4137 - mae: 0.4861 - mse: 0.4137\n",
      "Epoch 83/200\n",
      "10/10 [==============================] - 0s 778us/step - loss: 0.4135 - mae: 0.4913 - mse: 0.4135\n",
      "Epoch 84/200\n",
      "10/10 [==============================] - 0s 889us/step - loss: 0.4139 - mae: 0.4861 - mse: 0.4139\n",
      "Epoch 85/200\n",
      "10/10 [==============================] - 0s 777us/step - loss: 0.4135 - mae: 0.4814 - mse: 0.4135\n",
      "Epoch 86/200\n",
      "10/10 [==============================] - 0s 778us/step - loss: 0.4137 - mae: 0.4928 - mse: 0.4137\n",
      "Epoch 87/200\n",
      "10/10 [==============================] - 0s 666us/step - loss: 0.4137 - mae: 0.4861 - mse: 0.4137\n",
      "Epoch 88/200\n",
      "10/10 [==============================] - 0s 667us/step - loss: 0.4138 - mae: 0.4916 - mse: 0.4138\n",
      "Epoch 89/200\n",
      "10/10 [==============================] - 0s 889us/step - loss: 0.4138 - mae: 0.4940 - mse: 0.4138\n",
      "Epoch 90/200\n",
      "10/10 [==============================] - 0s 775us/step - loss: 0.4135 - mae: 0.4943 - mse: 0.4135\n",
      "Epoch 91/200\n",
      "10/10 [==============================] - 0s 667us/step - loss: 0.4139 - mae: 0.4923 - mse: 0.4139\n",
      "Epoch 92/200\n",
      "10/10 [==============================] - 0s 666us/step - loss: 0.4138 - mae: 0.4877 - mse: 0.4138\n",
      "Epoch 93/200\n",
      "10/10 [==============================] - 0s 889us/step - loss: 0.4137 - mae: 0.4862 - mse: 0.4137\n",
      "Epoch 94/200\n",
      "10/10 [==============================] - 0s 667us/step - loss: 0.4138 - mae: 0.4867 - mse: 0.4138\n",
      "Epoch 95/200\n",
      "10/10 [==============================] - 0s 889us/step - loss: 0.4134 - mae: 0.4790 - mse: 0.4134\n",
      "Epoch 96/200\n",
      "10/10 [==============================] - 0s 666us/step - loss: 0.4139 - mae: 0.4913 - mse: 0.4139\n",
      "Epoch 97/200\n",
      "10/10 [==============================] - 0s 667us/step - loss: 0.4133 - mae: 0.4977 - mse: 0.4133\n",
      "Epoch 98/200\n",
      "10/10 [==============================] - 0s 778us/step - loss: 0.4136 - mae: 0.4962 - mse: 0.4136\n",
      "Epoch 99/200\n",
      "10/10 [==============================] - 0s 667us/step - loss: 0.4135 - mae: 0.4962 - mse: 0.4135\n",
      "Epoch 100/200\n",
      "10/10 [==============================] - 0s 667us/step - loss: 0.4133 - mae: 0.4837 - mse: 0.4133\n",
      "Epoch 101/200\n",
      "10/10 [==============================] - 0s 556us/step - loss: 0.4138 - mae: 0.4840 - mse: 0.4138\n",
      "Epoch 102/200\n",
      "10/10 [==============================] - 0s 778us/step - loss: 0.4136 - mae: 0.4862 - mse: 0.4136\n",
      "Epoch 103/200\n",
      "10/10 [==============================] - 0s 778us/step - loss: 0.4139 - mae: 0.4905 - mse: 0.4139\n",
      "Epoch 104/200\n",
      "10/10 [==============================] - 0s 667us/step - loss: 0.4137 - mae: 0.4974 - mse: 0.4137\n",
      "Epoch 105/200\n",
      "10/10 [==============================] - 0s 778us/step - loss: 0.4130 - mae: 0.4923 - mse: 0.4130\n",
      "Epoch 106/200\n",
      "10/10 [==============================] - 0s 666us/step - loss: 0.4138 - mae: 0.4851 - mse: 0.4138\n",
      "Epoch 107/200\n",
      "10/10 [==============================] - 0s 778us/step - loss: 0.4138 - mae: 0.4849 - mse: 0.4138\n",
      "Epoch 108/200\n",
      "10/10 [==============================] - 0s 778us/step - loss: 0.4134 - mae: 0.4929 - mse: 0.4134\n",
      "Epoch 109/200\n",
      "10/10 [==============================] - 0s 889us/step - loss: 0.4137 - mae: 0.4944 - mse: 0.4137\n",
      "Epoch 110/200\n",
      "10/10 [==============================] - 0s 667us/step - loss: 0.4135 - mae: 0.4793 - mse: 0.4135\n",
      "Epoch 111/200\n",
      "10/10 [==============================] - 0s 667us/step - loss: 0.4133 - mae: 0.4822 - mse: 0.4133\n",
      "Epoch 112/200\n",
      "10/10 [==============================] - 0s 667us/step - loss: 0.4130 - mae: 0.4855 - mse: 0.4130\n",
      "Epoch 113/200\n",
      "10/10 [==============================] - 0s 662us/step - loss: 0.4139 - mae: 0.4918 - mse: 0.4139\n",
      "Epoch 114/200\n",
      "10/10 [==============================] - 0s 778us/step - loss: 0.4136 - mae: 0.4870 - mse: 0.4136\n",
      "Epoch 115/200\n",
      "10/10 [==============================] - 0s 889us/step - loss: 0.4137 - mae: 0.4855 - mse: 0.4137\n",
      "Epoch 116/200\n",
      "10/10 [==============================] - 0s 778us/step - loss: 0.4136 - mae: 0.4838 - mse: 0.4136\n",
      "Epoch 117/200\n",
      "10/10 [==============================] - 0s 778us/step - loss: 0.4139 - mae: 0.4898 - mse: 0.4139\n",
      "Epoch 118/200\n",
      "10/10 [==============================] - 0s 778us/step - loss: 0.4139 - mae: 0.4861 - mse: 0.4139\n",
      "Epoch 119/200\n",
      "10/10 [==============================] - 0s 889us/step - loss: 0.4140 - mae: 0.4889 - mse: 0.4140\n",
      "Epoch 120/200\n",
      "10/10 [==============================] - 0s 889us/step - loss: 0.4140 - mae: 0.4920 - mse: 0.4140\n",
      "Epoch 121/200\n",
      "10/10 [==============================] - 0s 1ms/step - loss: 0.4138 - mae: 0.4944 - mse: 0.4138\n",
      "Epoch 122/200\n",
      "10/10 [==============================] - 0s 778us/step - loss: 0.4139 - mae: 0.4941 - mse: 0.4139\n",
      "Epoch 123/200\n",
      "10/10 [==============================] - 0s 667us/step - loss: 0.4132 - mae: 0.4822 - mse: 0.4132\n",
      "Epoch 124/200\n",
      "10/10 [==============================] - 0s 889us/step - loss: 0.4135 - mae: 0.4840 - mse: 0.4135\n",
      "Epoch 125/200\n",
      "10/10 [==============================] - 0s 889us/step - loss: 0.4137 - mae: 0.4908 - mse: 0.4137\n",
      "Epoch 126/200\n",
      "10/10 [==============================] - 0s 778us/step - loss: 0.4140 - mae: 0.4927 - mse: 0.4140\n",
      "Epoch 127/200\n",
      "10/10 [==============================] - 0s 778us/step - loss: 0.4139 - mae: 0.4918 - mse: 0.4139\n",
      "Epoch 128/200\n",
      "10/10 [==============================] - 0s 778us/step - loss: 0.4139 - mae: 0.4882 - mse: 0.4139\n",
      "Epoch 129/200\n",
      "10/10 [==============================] - 0s 889us/step - loss: 0.4139 - mae: 0.4905 - mse: 0.4139\n",
      "Epoch 130/200\n",
      "10/10 [==============================] - 0s 778us/step - loss: 0.4139 - mae: 0.4882 - mse: 0.4139\n",
      "Epoch 131/200\n",
      "10/10 [==============================] - 0s 889us/step - loss: 0.4140 - mae: 0.4897 - mse: 0.4140\n",
      "Epoch 132/200\n",
      "10/10 [==============================] - 0s 667us/step - loss: 0.4138 - mae: 0.4872 - mse: 0.4138\n",
      "Epoch 133/200\n",
      "10/10 [==============================] - 0s 778us/step - loss: 0.4139 - mae: 0.4868 - mse: 0.4139\n",
      "Epoch 134/200\n",
      "10/10 [==============================] - 0s 667us/step - loss: 0.4136 - mae: 0.4867 - mse: 0.4136\n",
      "Epoch 135/200\n",
      "10/10 [==============================] - 0s 667us/step - loss: 0.4137 - mae: 0.4939 - mse: 0.4137\n",
      "Epoch 136/200\n",
      "10/10 [==============================] - 0s 889us/step - loss: 0.4136 - mae: 0.4872 - mse: 0.4136\n",
      "Epoch 137/200\n",
      "10/10 [==============================] - 0s 778us/step - loss: 0.4140 - mae: 0.4886 - mse: 0.4140\n",
      "Epoch 138/200\n",
      "10/10 [==============================] - 0s 777us/step - loss: 0.4136 - mae: 0.4973 - mse: 0.4136\n",
      "Epoch 139/200\n",
      "10/10 [==============================] - 0s 778us/step - loss: 0.4132 - mae: 0.4847 - mse: 0.4132\n",
      "Epoch 140/200\n",
      "10/10 [==============================] - 0s 781us/step - loss: 0.4139 - mae: 0.4943 - mse: 0.4139\n",
      "Epoch 141/200\n",
      "10/10 [==============================] - 0s 666us/step - loss: 0.4139 - mae: 0.4879 - mse: 0.4139\n",
      "Epoch 142/200\n",
      "10/10 [==============================] - 0s 889us/step - loss: 0.4138 - mae: 0.4847 - mse: 0.4138\n",
      "Epoch 143/200\n",
      "10/10 [==============================] - 0s 889us/step - loss: 0.4137 - mae: 0.4857 - mse: 0.4137\n",
      "Epoch 144/200\n",
      "10/10 [==============================] - 0s 778us/step - loss: 0.4138 - mae: 0.4900 - mse: 0.4138\n",
      "Epoch 145/200\n",
      "10/10 [==============================] - 0s 778us/step - loss: 0.4132 - mae: 0.4884 - mse: 0.4132\n",
      "Epoch 146/200\n",
      "10/10 [==============================] - 0s 889us/step - loss: 0.4139 - mae: 0.4925 - mse: 0.4139\n",
      "Epoch 147/200\n",
      "10/10 [==============================] - 0s 668us/step - loss: 0.4134 - mae: 0.4866 - mse: 0.4134\n",
      "Epoch 148/200\n",
      "10/10 [==============================] - 0s 777us/step - loss: 0.4139 - mae: 0.4887 - mse: 0.4139\n",
      "Epoch 149/200\n",
      "10/10 [==============================] - 0s 1ms/step - loss: 0.4132 - mae: 0.4858 - mse: 0.4132\n",
      "Epoch 150/200\n",
      "10/10 [==============================] - 0s 778us/step - loss: 0.4140 - mae: 0.4936 - mse: 0.4140\n",
      "Epoch 151/200\n",
      "10/10 [==============================] - 0s 778us/step - loss: 0.4139 - mae: 0.4885 - mse: 0.4139\n",
      "Epoch 152/200\n",
      "10/10 [==============================] - 0s 778us/step - loss: 0.4139 - mae: 0.4876 - mse: 0.4139\n",
      "Epoch 153/200\n",
      "10/10 [==============================] - 0s 783us/step - loss: 0.4133 - mae: 0.4937 - mse: 0.4133\n",
      "Epoch 154/200\n",
      "10/10 [==============================] - 0s 1ms/step - loss: 0.4140 - mae: 0.4925 - mse: 0.4140\n",
      "Epoch 155/200\n",
      "10/10 [==============================] - 0s 1ms/step - loss: 0.4135 - mae: 0.4933 - mse: 0.4135\n",
      "Epoch 156/200\n",
      "10/10 [==============================] - 0s 1ms/step - loss: 0.4139 - mae: 0.4902 - mse: 0.4139\n",
      "Epoch 157/200\n",
      "10/10 [==============================] - 0s 1ms/step - loss: 0.4136 - mae: 0.4907 - mse: 0.4136\n",
      "Epoch 158/200\n",
      "10/10 [==============================] - 0s 778us/step - loss: 0.4130 - mae: 0.4830 - mse: 0.4130\n",
      "Epoch 159/200\n",
      "10/10 [==============================] - 0s 666us/step - loss: 0.4139 - mae: 0.4870 - mse: 0.4139\n",
      "Epoch 160/200\n",
      "10/10 [==============================] - 0s 778us/step - loss: 0.4138 - mae: 0.4829 - mse: 0.4138\n",
      "Epoch 161/200\n",
      "10/10 [==============================] - 0s 889us/step - loss: 0.4132 - mae: 0.4864 - mse: 0.4132\n",
      "Epoch 162/200\n",
      "10/10 [==============================] - 0s 778us/step - loss: 0.4140 - mae: 0.4928 - mse: 0.4140\n",
      "Epoch 163/200\n",
      "10/10 [==============================] - 0s 1ms/step - loss: 0.4140 - mae: 0.4906 - mse: 0.4140\n",
      "Epoch 164/200\n",
      "10/10 [==============================] - 0s 1ms/step - loss: 0.4135 - mae: 0.4831 - mse: 0.4135\n",
      "Epoch 165/200\n",
      "10/10 [==============================] - 0s 1ms/step - loss: 0.4139 - mae: 0.4874 - mse: 0.4139\n",
      "Epoch 166/200\n",
      "10/10 [==============================] - 0s 778us/step - loss: 0.4133 - mae: 0.4942 - mse: 0.4133\n",
      "Epoch 167/200\n",
      "10/10 [==============================] - 0s 778us/step - loss: 0.4140 - mae: 0.4919 - mse: 0.4140\n",
      "Epoch 168/200\n",
      "10/10 [==============================] - 0s 1ms/step - loss: 0.4139 - mae: 0.4889 - mse: 0.4139\n",
      "Epoch 169/200\n",
      "10/10 [==============================] - 0s 667us/step - loss: 0.4133 - mae: 0.4986 - mse: 0.4133\n",
      "Epoch 170/200\n",
      "10/10 [==============================] - 0s 666us/step - loss: 0.4132 - mae: 0.4820 - mse: 0.4132\n",
      "Epoch 171/200\n",
      "10/10 [==============================] - 0s 778us/step - loss: 0.4139 - mae: 0.4880 - mse: 0.4139\n",
      "Epoch 172/200\n",
      "10/10 [==============================] - 0s 777us/step - loss: 0.4138 - mae: 0.4936 - mse: 0.4138\n",
      "Epoch 173/200\n",
      "10/10 [==============================] - 0s 778us/step - loss: 0.4138 - mae: 0.4858 - mse: 0.4138\n",
      "Epoch 174/200\n",
      "10/10 [==============================] - 0s 889us/step - loss: 0.4138 - mae: 0.4872 - mse: 0.4138\n",
      "Epoch 175/200\n",
      "10/10 [==============================] - 0s 778us/step - loss: 0.4134 - mae: 0.4953 - mse: 0.4134\n",
      "Epoch 176/200\n",
      "10/10 [==============================] - 0s 778us/step - loss: 0.4135 - mae: 0.4950 - mse: 0.4135\n",
      "Epoch 177/200\n",
      "10/10 [==============================] - 0s 889us/step - loss: 0.4139 - mae: 0.4918 - mse: 0.4139\n",
      "Epoch 178/200\n",
      "10/10 [==============================] - 0s 778us/step - loss: 0.4137 - mae: 0.4893 - mse: 0.4137\n",
      "Epoch 179/200\n",
      "10/10 [==============================] - 0s 666us/step - loss: 0.4138 - mae: 0.4829 - mse: 0.4138\n",
      "Epoch 180/200\n",
      "10/10 [==============================] - 0s 778us/step - loss: 0.4135 - mae: 0.4956 - mse: 0.4135\n",
      "Epoch 181/200\n",
      "10/10 [==============================] - 0s 778us/step - loss: 0.4137 - mae: 0.4864 - mse: 0.4137\n",
      "Epoch 182/200\n",
      "10/10 [==============================] - 0s 666us/step - loss: 0.4137 - mae: 0.4838 - mse: 0.4137\n",
      "Epoch 183/200\n",
      "10/10 [==============================] - 0s 778us/step - loss: 0.4138 - mae: 0.4886 - mse: 0.4138\n",
      "Epoch 184/200\n",
      "10/10 [==============================] - 0s 889us/step - loss: 0.4130 - mae: 0.4909 - mse: 0.4130\n",
      "Epoch 185/200\n",
      "10/10 [==============================] - 0s 778us/step - loss: 0.4133 - mae: 0.4766 - mse: 0.4133\n",
      "Epoch 186/200\n",
      "10/10 [==============================] - 0s 889us/step - loss: 0.4139 - mae: 0.4859 - mse: 0.4139\n",
      "Epoch 187/200\n",
      "10/10 [==============================] - 0s 778us/step - loss: 0.4138 - mae: 0.4941 - mse: 0.4138\n",
      "Epoch 188/200\n",
      "10/10 [==============================] - 0s 778us/step - loss: 0.4134 - mae: 0.4823 - mse: 0.4134\n",
      "Epoch 189/200\n",
      "10/10 [==============================] - 0s 778us/step - loss: 0.4138 - mae: 0.4837 - mse: 0.4138\n",
      "Epoch 190/200\n",
      "10/10 [==============================] - 0s 667us/step - loss: 0.4138 - mae: 0.4937 - mse: 0.4138\n",
      "Epoch 191/200\n",
      "10/10 [==============================] - 0s 778us/step - loss: 0.4138 - mae: 0.4944 - mse: 0.4138\n",
      "Epoch 192/200\n",
      "10/10 [==============================] - 0s 778us/step - loss: 0.4140 - mae: 0.4927 - mse: 0.4140\n",
      "Epoch 193/200\n",
      "10/10 [==============================] - 0s 1000us/step - loss: 0.4140 - mae: 0.4893 - mse: 0.4140\n",
      "Epoch 194/200\n",
      "10/10 [==============================] - 0s 667us/step - loss: 0.4135 - mae: 0.4846 - mse: 0.4135\n",
      "Epoch 195/200\n",
      "10/10 [==============================] - 0s 1ms/step - loss: 0.4138 - mae: 0.4844 - mse: 0.4138\n",
      "Epoch 196/200\n",
      "10/10 [==============================] - 0s 889us/step - loss: 0.4139 - mae: 0.4936 - mse: 0.4139\n",
      "Epoch 197/200\n",
      "10/10 [==============================] - 0s 889us/step - loss: 0.4135 - mae: 0.4964 - mse: 0.4135\n",
      "Epoch 198/200\n",
      "10/10 [==============================] - 0s 889us/step - loss: 0.4138 - mae: 0.4873 - mse: 0.4138\n",
      "Epoch 199/200\n",
      "10/10 [==============================] - 0s 2ms/step - loss: 0.4139 - mae: 0.4846 - mse: 0.4139\n",
      "Epoch 200/200\n",
      "10/10 [==============================] - 0s 889us/step - loss: 0.4138 - mae: 0.4868 - mse: 0.4138\n"
     ]
    },
    {
     "data": {
      "text/plain": "<keras.callbacks.History at 0x204293a98e0>"
     },
     "execution_count": 37,
     "metadata": {},
     "output_type": "execute_result"
    }
   ],
   "source": [
    "model.fit(X_train_norm, y_train,\n",
    "          epochs=num_epochs, batch_size=batch_size,\n",
    "          verbose=1)"
   ],
   "metadata": {
    "collapsed": false,
    "pycharm": {
     "name": "#%%\n"
    }
   }
  },
  {
   "cell_type": "code",
   "execution_count": 38,
   "outputs": [
    {
     "name": "stdout",
     "output_type": "stream",
     "text": [
      "2.7067394 4.9657216\n"
     ]
    },
    {
     "data": {
      "text/plain": "<Figure size 936x360 with 2 Axes>",
      "image/png": "[encoded data removed]"
     },
     "metadata": {
      "needs_background": "light"
     },
     "output_type": "display_data"
    }
   ],
   "source": [
    "print(model.w.numpy(), model.b.numpy())\n",
    "\n",
    "\n",
    "X_test = np.linspace(0, 9, num=100).reshape(-1, 1)\n",
    "X_test_norm = (X_test - np.mean(X_train)) / np.std(X_train)\n",
    "\n",
    "y_pred = model(tf.cast(X_test_norm, dtype=tf.float32))\n",
    "\n",
    "\n",
    "fig = plt.figure(figsize=(13, 5))\n",
    "ax = fig.add_subplot(1, 2, 1)\n",
    "plt.plot(X_train_norm, y_train, 'o', markersize=10)\n",
    "plt.plot(X_test_norm, y_pred, '--', lw=3)\n",
    "plt.legend(['Training Samples', 'Linear Regression'], fontsize=15)\n",
    "\n",
    "ax = fig.add_subplot(1, 2, 2)\n",
    "plt.plot(Ws, lw=3)\n",
    "plt.plot(bs, lw=3)\n",
    "plt.legend(['W', 'bias'], fontsize=15)\n",
    "plt.show()"
   ],
   "metadata": {
    "collapsed": false,
    "pycharm": {
     "name": "#%%\n"
    }
   }
  }
 ],
 "metadata": {
  "kernelspec": {
   "display_name": "Python 3",
   "language": "python",
   "name": "python3"
  },
  "language_info": {
   "codemirror_mode": {
    "name": "ipython",
    "version": 2
   },
   "file_extension": ".py",
   "mimetype": "text/x-python",
   "name": "python",
   "nbconvert_exporter": "python",
   "pygments_lexer": "ipython2",
   "version": "2.7.6"
  }
 },
 "nbformat": 4,
 "nbformat_minor": 0
}