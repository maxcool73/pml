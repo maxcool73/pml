{
 "cells": [
  {
   "cell_type": "code",
   "execution_count": 3,
   "metadata": {
    "collapsed": true
   },
   "outputs": [
    {
     "name": "stdout",
     "output_type": "stream",
     "text": [
      "Результат: z = 1\n"
     ]
    }
   ],
   "source": [
    "import tensorflow as tf\n",
    "\n",
    "##Стиль TF v1.x\n",
    "g = tf.Graph()\n",
    "with g.as_default():\n",
    "    a = tf.constant(1, name='a')\n",
    "    b = tf.constant(2, name='b')\n",
    "    c = tf.constant(3, name='c')\n",
    "    z = 2 * (a - b) + c\n",
    "with tf.compat.v1.Session(graph=g) as sess:\n",
    "    print('Результат: z =', sess.run(z))"
   ]
  },
  {
   "cell_type": "code",
   "execution_count": 4,
   "outputs": [
    {
     "name": "stdout",
     "output_type": "stream",
     "text": [
      "Результат: z=  1\r\n"
     ]
    }
   ],
   "source": [
    "## Стиль TF v2\n",
    "a = tf.constant(1, name='a')\n",
    "b = tf.constant(2, name='b')\n",
    "c = tf.constant(3, name='c')\n",
    "z = 2 * (a - b) + c\n",
    "tf.print('Результат: z= ', z)"
   ],
   "metadata": {
    "collapsed": false,
    "pycharm": {
     "name": "#%%\n"
    }
   }
  },
  {
   "cell_type": "code",
   "execution_count": 6,
   "outputs": [
    {
     "name": "stdout",
     "output_type": "stream",
     "text": [
      "Результат: z = 1\n"
     ]
    }
   ],
   "source": [
    "##Стиль TF-vl.x\n",
    "g = tf.Graph()\n",
    "with g.as_default():\n",
    "    a = tf.compat.v1.placeholder(shape=None, dtype=tf.int32, name='tf_a')\n",
    "    b = tf.compat.v1.placeholder(shape=None, dtype=tf.int32, name='tf_b')\n",
    "    c = tf.compat.v1.placeholder(shape=None, dtype=tf.int32, name='tf_c')\n",
    "    z = 2 * (a - b) + c\n",
    "with tf.compat.v1.Session(graph=g) as sess:\n",
    "    feed_dict = {a: 1, b: 2, c: 3}\n",
    "    print('Результат: z =', sess.run(z, feed_dict=feed_dict))"
   ],
   "metadata": {
    "collapsed": false,
    "pycharm": {
     "name": "#%%\n"
    }
   }
  },
  {
   "cell_type": "code",
   "execution_count": 9,
   "outputs": [
    {
     "name": "stdout",
     "output_type": "stream",
     "text": [
      "Скалярные входные данные: 1\r\n",
      "Bxoдныe данные ранга 1: [1]\r\n",
      "Bxoдныe данные ранга 2: [[1]]\r\n"
     ]
    }
   ],
   "source": [
    "## Стиль TF-v2\n",
    "def compute_z(a, b, c):\n",
    "    r1 = tf.subtract(a, b)\n",
    "    r2 = tf.multiply(2, r1)\n",
    "    z = tf.add(r2, c)\n",
    "    return z\n",
    "\n",
    "\n",
    "tf.print('Скалярные входные данные:', compute_z(1, 2, 3))\n",
    "tf.print('Bxoдныe данные ранга 1:', compute_z([1], [2], [3]))\n",
    "tf.print('Bxoдныe данные ранга 2:', compute_z([[1]], [[2]], [[3]]))"
   ],
   "metadata": {
    "collapsed": false,
    "pycharm": {
     "name": "#%%\n"
    }
   }
  },
  {
   "cell_type": "code",
   "execution_count": 10,
   "outputs": [
    {
     "name": "stdout",
     "output_type": "stream",
     "text": [
      "Скалярные входные данные: 1\r\n",
      "Bxoдныe данные ранга 1: [1]\r\n",
      "Bxoдныe данные ранга 2: [[1]]\r\n"
     ]
    }
   ],
   "source": [
    "@tf.function\n",
    "def compute_z(a, b, c):\n",
    "    r1 = tf.subtract(a, b)\n",
    "    r2 = tf.multiply(2, r1)\n",
    "    z = tf.add(r2, c)\n",
    "    return z\n",
    "\n",
    "\n",
    "tf.print('Скалярные входные данные:', compute_z(1, 2, 3))\n",
    "tf.print('Bxoдныe данные ранга 1:', compute_z([1], [2], [3]))\n",
    "tf.print('Bxoдныe данные ранга 2:', compute_z([[1]], [[2]], [[3]]))"
   ],
   "metadata": {
    "collapsed": false,
    "pycharm": {
     "name": "#%%\n"
    }
   }
  },
  {
   "cell_type": "code",
   "execution_count": 14,
   "outputs": [
    {
     "name": "stdout",
     "output_type": "stream",
     "text": [
      "Bxoдныe данные ранга 1: [1]\r\n",
      "Входные данные ранга 1: [1 2]\r\n"
     ]
    }
   ],
   "source": [
    "@tf.function(input_signature=(tf.TensorSpec(shape=[None], dtype=tf.int32),\n",
    "                              tf.TensorSpec(shape=[None], dtype=tf.int32),\n",
    "                              tf.TensorSpec(shape=[None], dtype=tf.int32),))\n",
    "def compute_z(a, b, c):\n",
    "    r1 = tf.subtract(a, b)\n",
    "    r2 = tf.multiply(2, r1)\n",
    "    z = tf.add(r2, c)\n",
    "    return z\n",
    "\n",
    "\n",
    "tf.print('Bxoдныe данные ранга 1:', compute_z([1], [2], [3]))\n",
    "tf.print('Входные данные ранга 1:', compute_z([1, 2], [2, 4], [3, 6]))\n",
    "\n",
    "# tf.print('Входные данные ранга О:', compute_z(1, 2, 3))\n",
    "### приведет к ошибке\n",
    "# tf.print('Bxoдныe данные ранга 2:', compute_z([[1], [2]], [[2], [4]], [[3], [6]]))\n",
    "### приведет к ошибке"
   ],
   "metadata": {
    "collapsed": false,
    "pycharm": {
     "name": "#%%\n"
    }
   }
  }
 ],
 "metadata": {
  "kernelspec": {
   "display_name": "Python 3",
   "language": "python",
   "name": "python3"
  },
  "language_info": {
   "codemirror_mode": {
    "name": "ipython",
    "version": 2
   },
   "file_extension": ".py",
   "mimetype": "text/x-python",
   "name": "python",
   "nbconvert_exporter": "python",
   "pygments_lexer": "ipython2",
   "version": "2.7.6"
  }
 },
 "nbformat": 4,
 "nbformat_minor": 0
}